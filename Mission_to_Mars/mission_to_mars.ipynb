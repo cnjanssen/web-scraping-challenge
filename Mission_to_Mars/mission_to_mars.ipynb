{
 "cells": [
  {
   "cell_type": "code",
   "execution_count": 237,
   "metadata": {},
   "outputs": [],
   "source": [
    "from splinter import Browser\n",
    "from bs4 import BeautifulSoup as bs\n",
    "import pandas as pd\n",
    "import time"
   ]
  },
  {
   "cell_type": "code",
   "execution_count": 370,
   "metadata": {},
   "outputs": [],
   "source": [
    "dictionary = scrape()"
   ]
  },
  {
   "cell_type": "code",
   "execution_count": 382,
   "metadata": {},
   "outputs": [
    {
     "data": {
      "text/plain": [
       "'<table border=\"1\" class=\"dataframe\">\\n  <thead>\\n    <tr style=\"text-align: right;\">\\n      <th></th>\\n      <th>Property</th>\\n      <th>Value</th>\\n    </tr>\\n  </thead>\\n  <tbody>\\n    <tr>\\n      <th>0</th>\\n      <td>Equatorial Diameter:</td>\\n      <td>6,792 km</td>\\n    </tr>\\n    <tr>\\n      <th>1</th>\\n      <td>Polar Diameter:</td>\\n      <td>6,752 km</td>\\n    </tr>\\n    <tr>\\n      <th>2</th>\\n      <td>Mass:</td>\\n      <td>6.39 × 10^23 kg (0.11 Earths)</td>\\n    </tr>\\n    <tr>\\n      <th>3</th>\\n      <td>Moons:</td>\\n      <td>2 (Phobos &amp; Deimos)</td>\\n    </tr>\\n    <tr>\\n      <th>4</th>\\n      <td>Orbit Distance:</td>\\n      <td>227,943,824 km (1.38 AU)</td>\\n    </tr>\\n    <tr>\\n      <th>5</th>\\n      <td>Orbit Period:</td>\\n      <td>687 days (1.9 years)</td>\\n    </tr>\\n    <tr>\\n      <th>6</th>\\n      <td>Surface Temperature:</td>\\n      <td>-87 to -5 °C</td>\\n    </tr>\\n    <tr>\\n      <th>7</th>\\n      <td>First Record:</td>\\n      <td>2nd millennium BC</td>\\n    </tr>\\n    <tr>\\n      <th>8</th>\\n      <td>Recorded By:</td>\\n      <td>Egyptian astronomers</td>\\n    </tr>\\n  </tbody>\\n</table>'"
      ]
     },
     "execution_count": 382,
     "metadata": {},
     "output_type": "execute_result"
    }
   ],
   "source": [
    "dictionary['facts']"
   ]
  },
  {
   "cell_type": "code",
   "execution_count": 368,
   "metadata": {},
   "outputs": [],
   "source": [
    "#a function that runs each individual scraping function and returns a dictionary of each item\n",
    "def scrape():\n",
    "    news = scrape_news()\n",
    "    image = get_featured_img()\n",
    "    weather = get_weather()\n",
    "    facts = get_facts()\n",
    "    hemisphere = get_hemi()\n",
    "    mars_dict = {\n",
    "            \"news\": news ,\n",
    "            \"featured_img\" : image,\n",
    "            \"weather\" : weather,\n",
    "            \"facts\" : facts,\n",
    "            \"hemisphere\": hemisphere,\n",
    "        }\n",
    "    return mars_dict"
   ]
  },
  {
   "cell_type": "code",
   "execution_count": 371,
   "metadata": {},
   "outputs": [
    {
     "data": {
      "text/plain": [
       "{'news': ['NASA Updates Mars 2020 Mission Environmental Review',\n",
       "  'NASA and the Department of Energy have completed a more detailed risk analysis for the Mars 2020 rover launch from Florida.'],\n",
       " 'featured_img': '//photojournal.jpl.nasa.gov/jpeg/PIA18905.jpg',\n",
       " 'weather': 'InSight sol 353 (2019-11-24) low -100.6ºC (-149.1ºF) high -23.3ºC (-10.0ºF) winds from the SSE at 5.8 m/s (13.1 mph) gusting to 21.4 m/s (47.9 mph) pressure at 6.70 hPa',\n",
       " 'facts': '<table border=\"1\" class=\"dataframe\">\\n  <thead>\\n    <tr style=\"text-align: right;\">\\n      <th></th>\\n      <th>Property</th>\\n      <th>Value</th>\\n    </tr>\\n  </thead>\\n  <tbody>\\n    <tr>\\n      <th>0</th>\\n      <td>Equatorial Diameter:</td>\\n      <td>6,792 km</td>\\n    </tr>\\n    <tr>\\n      <th>1</th>\\n      <td>Polar Diameter:</td>\\n      <td>6,752 km</td>\\n    </tr>\\n    <tr>\\n      <th>2</th>\\n      <td>Mass:</td>\\n      <td>6.39 × 10^23 kg (0.11 Earths)</td>\\n    </tr>\\n    <tr>\\n      <th>3</th>\\n      <td>Moons:</td>\\n      <td>2 (Phobos &amp; Deimos)</td>\\n    </tr>\\n    <tr>\\n      <th>4</th>\\n      <td>Orbit Distance:</td>\\n      <td>227,943,824 km (1.38 AU)</td>\\n    </tr>\\n    <tr>\\n      <th>5</th>\\n      <td>Orbit Period:</td>\\n      <td>687 days (1.9 years)</td>\\n    </tr>\\n    <tr>\\n      <th>6</th>\\n      <td>Surface Temperature:</td>\\n      <td>-87 to -5 °C</td>\\n    </tr>\\n    <tr>\\n      <th>7</th>\\n      <td>First Record:</td>\\n      <td>2nd millennium BC</td>\\n    </tr>\\n    <tr>\\n      <th>8</th>\\n      <td>Recorded By:</td>\\n      <td>Egyptian astronomers</td>\\n    </tr>\\n  </tbody>\\n</table>',\n",
       " 'hemisphere': [{'title': 'Cerberus Hemisphere',\n",
       "   'img_url': 'http://astropedia.astrogeology.usgs.gov/download/Mars/Viking/cerberus_enhanced.tif'},\n",
       "  {'title': 'Schiaparelli Hemisphere',\n",
       "   'img_url': 'http://astropedia.astrogeology.usgs.gov/download/Mars/Viking/schiaparelli_enhanced.tif'},\n",
       "  {'title': 'Syrtis Major Hemisphere',\n",
       "   'img_url': 'http://astropedia.astrogeology.usgs.gov/download/Mars/Viking/syrtis_major_enhanced.tif'},\n",
       "  {'title': 'Valles Marineris Hemisphere',\n",
       "   'img_url': 'http://astropedia.astrogeology.usgs.gov/download/Mars/Viking/valles_marineris_enhanced.tif'}]}"
      ]
     },
     "execution_count": 371,
     "metadata": {},
     "output_type": "execute_result"
    }
   ],
   "source": [
    "dictionary"
   ]
  },
  {
   "cell_type": "code",
   "execution_count": 10,
   "metadata": {},
   "outputs": [],
   "source": [
    "def init_browser():\n",
    "    # @NOTE: Replace the path with your actual path to the chromedriver\n",
    "    executable_path = {\"executable_path\": \"/usr/local/bin/chromedriver\"}\n",
    "    return Browser(\"chrome\", **executable_path, headless=False)"
   ]
  },
  {
   "cell_type": "code",
   "execution_count": 350,
   "metadata": {},
   "outputs": [],
   "source": [
    "#scrape the latest news, returning a list with the title, then the article body\n",
    "def scrape_news():\n",
    "    #create variable, \"output\" which we will return at the end\n",
    "    output = []\n",
    "    #visit the Mars and get the latest news. title and paragraph body\n",
    "    browser = init_browser()\n",
    "\n",
    "    # visit site\n",
    "    url = \"https://mars.nasa.gov/news\"\n",
    "    browser.visit(url)\n",
    "\n",
    "    time.sleep(1)\n",
    "\n",
    "    # Scrape page into Soup\n",
    "    html = browser.html\n",
    "    soup = bs(html, \"html.parser\")\n",
    "\n",
    "    # Get the latest news title and paragraph text\n",
    "    new_title = {}\n",
    "    title = soup.findAll(\"div\", {\"class\": \"content_title\"})\n",
    "    first_paragraph = soup.findAll(\"div\", {\"class\": \"article_teaser_body\"})\n",
    "\n",
    "    \n",
    "    #create variables for first article headline and its text teaser paragraph\n",
    "    news_title = title[0].text\n",
    "    news_p = first_paragraph[0].text\n",
    "\n",
    "    # Quite the browser after scraping\n",
    "    browser.quit()\n",
    "    \n",
    "    output.append(news_title)\n",
    "    output.append(news_p)\n",
    "    \n",
    "    return output"
   ]
  },
  {
   "cell_type": "code",
   "execution_count": 351,
   "metadata": {},
   "outputs": [],
   "source": [
    "news = scrape_news()"
   ]
  },
  {
   "cell_type": "code",
   "execution_count": 352,
   "metadata": {},
   "outputs": [
    {
     "data": {
      "text/plain": [
       "['NASA Updates Mars 2020 Mission Environmental Review',\n",
       " 'NASA and the Department of Energy have completed a more detailed risk analysis for the Mars 2020 rover launch from Florida.']"
      ]
     },
     "execution_count": 352,
     "metadata": {},
     "output_type": "execute_result"
    }
   ],
   "source": [
    "news"
   ]
  },
  {
   "cell_type": "code",
   "execution_count": 354,
   "metadata": {},
   "outputs": [],
   "source": [
    "#return full-size featured image url from NASA's JPL\n",
    "def get_featured_img():\n",
    "    #visit JPL mars space image site and get the featured image info \n",
    "    #then go to the image library and get the full length jpeg \n",
    "    browser = init_browser()\n",
    "    url_jpl = \"https://www.jpl.nasa.gov/spaceimages/?search=&category=Mars\"\n",
    "    base_url = 'https://www.jpl.nasa.gov'\n",
    "    browser.visit(url_jpl)\n",
    "    time.sleep(1)\n",
    "\n",
    "    # Scrape page into Soup\n",
    "    html = browser.html\n",
    "    soup = bs(html, \"html.parser\")\n",
    "\n",
    "    #get browser data-link tag\n",
    "    box = soup.find_all('div', {'class':'carousel_items'})\n",
    "    #find a attribute\n",
    "    link = box[0].find('a')\n",
    "    #find data-link within a\n",
    "    idl = link['data-link']\n",
    "\n",
    "    #create url to image\n",
    "    full_link = str(base_url + idl)\n",
    "\n",
    "    #visit url of full image metadata and description\n",
    "    browser.visit(full_link)\n",
    "\n",
    "    # Scrape page into Soup\n",
    "    html = browser.html\n",
    "    soup = bs(html, \"html.parser\")\n",
    "\n",
    "    #find all links to the images and return the jpeg link since the class download_tiff appears \n",
    "    #twice and references both tiff and jpeg images\n",
    "    a = soup.find_all('div', {'class':'download_tiff' })\n",
    "    featured_image_url = a[1].find('a')['href']\n",
    "\n",
    "    browser.quit()\n",
    "    return featured_image_url\n",
    "    "
   ]
  },
  {
   "cell_type": "code",
   "execution_count": 355,
   "metadata": {},
   "outputs": [],
   "source": [
    "image = get_featured_img()"
   ]
  },
  {
   "cell_type": "code",
   "execution_count": 356,
   "metadata": {},
   "outputs": [
    {
     "data": {
      "text/plain": [
       "'//photojournal.jpl.nasa.gov/jpeg/PIA17550.jpg'"
      ]
     },
     "execution_count": 356,
     "metadata": {},
     "output_type": "execute_result"
    }
   ],
   "source": [
    "image"
   ]
  },
  {
   "cell_type": "code",
   "execution_count": 358,
   "metadata": {},
   "outputs": [],
   "source": [
    "# get mars weather as a string\n",
    "def get_weather(): \n",
    "    #visit twitter page to get weather\n",
    "    browser = init_browser()\n",
    "    url_twitter = 'https://twitter.com/marswxreport?lang=en'\n",
    "    browser.visit(url_twitter)\n",
    "    time.sleep(1)\n",
    "\n",
    "    # Scrape page into Soup\n",
    "    html = browser.html\n",
    "    soup = bs(html, \"html.parser\")\n",
    "\n",
    "    #get tweet text and save into variable\n",
    "    tweet = soup.find('p', {'class' : 'TweetTextSize TweetTextSize--normal js-tweet-text tweet-text'})\n",
    "    text = tweet.contents[0]\n",
    "    #clean string up \n",
    "    mars_weather = text.replace('\\n', ' ')\n",
    "    return mars_weather\n",
    "    \n"
   ]
  },
  {
   "cell_type": "code",
   "execution_count": 359,
   "metadata": {},
   "outputs": [],
   "source": [
    "weather = get_weather()"
   ]
  },
  {
   "cell_type": "code",
   "execution_count": 360,
   "metadata": {},
   "outputs": [
    {
     "data": {
      "text/plain": [
       "'InSight sol 353 (2019-11-24) low -100.6ºC (-149.1ºF) high -23.3ºC (-10.0ºF) winds from the SSE at 5.8 m/s (13.1 mph) gusting to 21.4 m/s (47.9 mph) pressure at 6.70 hPa'"
      ]
     },
     "execution_count": 360,
     "metadata": {},
     "output_type": "execute_result"
    }
   ],
   "source": [
    "weather"
   ]
  },
  {
   "cell_type": "code",
   "execution_count": 361,
   "metadata": {},
   "outputs": [],
   "source": [
    "#return html string\n",
    "def get_facts():\n",
    "    #visit page for mars facts and use Pandas\n",
    "    url = 'https://space-facts.com/mars/'\n",
    "    browser = init_browser()\n",
    "    browser.visit(url)\n",
    "\n",
    "    # get html from browser and read it into pandas using the read_html command\n",
    "    html = browser.html\n",
    "    df_list = pd.read_html(html, attrs = {'id': 'tablepress-p-mars-no-2'})\n",
    "    df = df_list[0]\n",
    "    df.columns = ['Property', 'Value']\n",
    "    string = df.to_html()\n",
    "    return string"
   ]
  },
  {
   "cell_type": "code",
   "execution_count": 362,
   "metadata": {},
   "outputs": [],
   "source": [
    "facts = get_facts()"
   ]
  },
  {
   "cell_type": "code",
   "execution_count": null,
   "metadata": {},
   "outputs": [],
   "source": []
  },
  {
   "cell_type": "code",
   "execution_count": 365,
   "metadata": {},
   "outputs": [],
   "source": [
    "#return a list of dictionaries for mars hemispheres and their images\n",
    "def get_hemi():    \n",
    "    #visit hemisphere image page and collect links as a list of dictionaries\n",
    "    url = 'https://astrogeology.usgs.gov/search/results?q=hemisphere+enhanced&k1=target&v1=Mars'\n",
    "    browser = init_browser()\n",
    "    browser.visit(url)\n",
    "\n",
    "    # Scrape page into Soup\n",
    "    html = browser.html\n",
    "    soup = bs(html, \"html.parser\")\n",
    "\n",
    "    #create list of hemisphere titles\n",
    "    hemi_t = []\n",
    "\n",
    "    #get list of all links and have browser click on each sequentially\n",
    "    images = soup.find_all('div', {'class' : 'description'})\n",
    "\n",
    "    urls = []\n",
    "    url = images[0].find('a')['href']\n",
    "    base_url = 'https://astrogeology.usgs.gov'\n",
    "\n",
    "    #generate complete url list\n",
    "    for i in images:\n",
    "        url = i.find('a')['href']\n",
    "        title = i.find('h3').text\n",
    "        title_strip = title[:-9]\n",
    "        hemi_t.append(title_strip)\n",
    "        full_url = str(base_url+url)\n",
    "        urls.append(full_url)\n",
    "\n",
    "    img_links = []\n",
    "\n",
    "    #iterate through url list, visiting each url and appending it to another list\n",
    "\n",
    "    for l in urls:\n",
    "        browser.visit(l)\n",
    "        html = browser.html\n",
    "        soup = bs(html, \"html.parser\")\n",
    "        images = soup.find_all('div', {'class' : 'downloads'})\n",
    "\n",
    "        links = images[0].find_all('a')\n",
    "\n",
    "        tif = links[1]['href']\n",
    "        img_links.append(tif)\n",
    "    list_dict = []\n",
    "\n",
    "    for t, u in zip(hemi_t, img_links):\n",
    "        hemi_dict = {\n",
    "            \"title\": t ,\n",
    "            \"img_url\" : u,\n",
    "        }\n",
    "        list_dict.append(hemi_dict)\n",
    "    return list_dict"
   ]
  },
  {
   "cell_type": "code",
   "execution_count": 366,
   "metadata": {},
   "outputs": [],
   "source": [
    "hemisphere = get_hemi()\n",
    "\n"
   ]
  },
  {
   "cell_type": "code",
   "execution_count": 367,
   "metadata": {},
   "outputs": [
    {
     "data": {
      "text/plain": [
       "[{'title': 'Cerberus Hemisphere',\n",
       "  'img_url': 'http://astropedia.astrogeology.usgs.gov/download/Mars/Viking/cerberus_enhanced.tif'},\n",
       " {'title': 'Schiaparelli Hemisphere',\n",
       "  'img_url': 'http://astropedia.astrogeology.usgs.gov/download/Mars/Viking/schiaparelli_enhanced.tif'},\n",
       " {'title': 'Syrtis Major Hemisphere',\n",
       "  'img_url': 'http://astropedia.astrogeology.usgs.gov/download/Mars/Viking/syrtis_major_enhanced.tif'},\n",
       " {'title': 'Valles Marineris Hemisphere',\n",
       "  'img_url': 'http://astropedia.astrogeology.usgs.gov/download/Mars/Viking/valles_marineris_enhanced.tif'}]"
      ]
     },
     "execution_count": 367,
     "metadata": {},
     "output_type": "execute_result"
    }
   ],
   "source": [
    "hemisphere"
   ]
  },
  {
   "cell_type": "code",
   "execution_count": null,
   "metadata": {},
   "outputs": [],
   "source": []
  },
  {
   "cell_type": "code",
   "execution_count": null,
   "metadata": {},
   "outputs": [],
   "source": []
  },
  {
   "cell_type": "code",
   "execution_count": null,
   "metadata": {},
   "outputs": [],
   "source": []
  },
  {
   "cell_type": "code",
   "execution_count": null,
   "metadata": {},
   "outputs": [],
   "source": []
  },
  {
   "cell_type": "code",
   "execution_count": null,
   "metadata": {},
   "outputs": [],
   "source": []
  }
 ],
 "metadata": {
  "kernelspec": {
   "display_name": "Python 3",
   "language": "python",
   "name": "python3"
  },
  "language_info": {
   "codemirror_mode": {
    "name": "ipython",
    "version": 3
   },
   "file_extension": ".py",
   "mimetype": "text/x-python",
   "name": "python",
   "nbconvert_exporter": "python",
   "pygments_lexer": "ipython3",
   "version": "3.7.3"
  }
 },
 "nbformat": 4,
 "nbformat_minor": 2
}
